{
 "cells": [
  {
   "cell_type": "code",
   "execution_count": 1,
   "metadata": {},
   "outputs": [],
   "source": [
    "import numpy as np\n",
    "import matplotlib.pyplot as plt\n",
    "from matplotlib import gridspec as gd\n",
    "import os\n",
    "import pickle as pc\n",
    "import utils1 as utl\n",
    "from astropy.io import fits\n",
    "from astroquery.mast import Observations as obs\n",
    "from scipy import interpolate as inp\n",
    "import matplotlib.cm as cm\n",
    "import matplotlib.colors as cls\n",
    "from scipy.optimize import curve_fit as cft\n",
    "from pylab import *\n",
    "import seaborn as sns"
   ]
  },
  {
   "cell_type": "code",
   "execution_count": 2,
   "metadata": {},
   "outputs": [],
   "source": [
    "path1 = '/home/jayshil/Documents/Dissertation'"
   ]
  },
  {
   "cell_type": "code",
   "execution_count": 3,
   "metadata": {},
   "outputs": [],
   "source": [
    "name = np.loadtxt('data2.dat', dtype = str, usecols = 0, unpack = True)\n",
    "teff, lg, mh, vturb, p, pperr, pnerr, tc, aste, asteperr, astenerr, \\\n",
    "ecc, ome, rprst, rprstperr, rprstnerr, tce \\\n",
    "= np.loadtxt('data2.dat', usecols = (1,2,3,4,5,6,7,8,9,10,11,12,13,14,15,16,17), unpack = True)"
   ]
  },
  {
   "cell_type": "markdown",
   "metadata": {},
   "source": [
    "Accessing the values of empirical values of LDCs"
   ]
  },
  {
   "cell_type": "code",
   "execution_count": 4,
   "metadata": {},
   "outputs": [],
   "source": [
    "u1_j, u1_jp, u1_jn, u2_j, u2_jp, u2_jn \\\n",
    "= np.loadtxt(path1 + '/Results/cal_us_and_evidance/cal_u1_u2.dat', usecols = (1,2,3,4,5,6), unpack = True)\n",
    "\n",
    "u1max_j = np.max(u1_j)\n",
    "u1min_j = np.min(u1_j)\n",
    "u2max_j = np.max(u2_j)\n",
    "u2min_j = np.min(u2_j)"
   ]
  },
  {
   "cell_type": "markdown",
   "metadata": {},
   "source": [
    "Now, the theoretical values (for Claret 2017 ATLAS limiting LDCs)"
   ]
  },
  {
   "cell_type": "code",
   "execution_count": 5,
   "metadata": {},
   "outputs": [],
   "source": [
    "u1_c_a, u2_c_a = np.loadtxt(path1 + '/Atlas/claret_limiting_LDC_ata.dat', usecols = (1,2), unpack = True)\n",
    "\n",
    "u1max_c_a = np.max(u1_c_a)\n",
    "u1min_c_a = np.min(u1_c_a)\n",
    "u2max_c_a = np.max(u2_c_a)\n",
    "u2min_c_a = np.min(u2_c_a)"
   ]
  },
  {
   "cell_type": "markdown",
   "metadata": {},
   "source": [
    "Finding residuals..."
   ]
  },
  {
   "cell_type": "code",
   "execution_count": 6,
   "metadata": {},
   "outputs": [],
   "source": [
    "diff_u2_c_a = np.array([])\n",
    "diff_u2_c_ae = np.array([])\n",
    "\n",
    "for i in range(len(u2_j)):\n",
    "    u22_c_a = np.random.normal(u2_c_a[i], 0, 10000)\n",
    "    u22_j = np.random.normal(u2_j[i], u2_jp[i], 10000)\n",
    "    diff2 = u22_c_a - u22_j\n",
    "    u22_m = np.median(diff2)\n",
    "    u22_e = np.std(diff2)\n",
    "    diff_u2_c_a = np.hstack((diff_u2_c_a, u22_m))\n",
    "    diff_u2_c_ae = np.hstack((diff_u2_c_ae, u22_e))"
   ]
  },
  {
   "cell_type": "markdown",
   "metadata": {},
   "source": [
    "Let's first plot it..."
   ]
  },
  {
   "cell_type": "code",
   "execution_count": 7,
   "metadata": {},
   "outputs": [
    {
     "data": {
      "image/png": "[encoded data removed]",
      "text/plain": [
       "<Figure size 768x432 with 1 Axes>"
      ]
     },
     "metadata": {
      "needs_background": "light"
     },
     "output_type": "display_data"
    }
   ],
   "source": [
    "plt.figure(figsize=(16/1.5, 9/1.5))\n",
    "plt.errorbar(teff, diff_u2_c_a, yerr = [u2_jn, u2_jp], fmt='.', elinewidth=1, alpha=0.35, color='cornflowerblue')\n",
    "plt.plot(teff, np.zeros(len(teff)), 'k--')\n",
    "plt.xlabel('Effective Temperature')\n",
    "plt.ylabel('Residuals')\n",
    "plt.grid()\n",
    "plt.show()"
   ]
  },
  {
   "cell_type": "markdown",
   "metadata": {},
   "source": [
    "Let's try to fit several models to the data, and check the best fit model using BIC"
   ]
  },
  {
   "cell_type": "code",
   "execution_count": 8,
   "metadata": {},
   "outputs": [],
   "source": [
    "def line(x,m,c):\n",
    "    function = m*x + c\n",
    "    return function\n",
    "\n",
    "def constant(x, c):\n",
    "    function = c + x*0\n",
    "    return function\n",
    "\n",
    "def quadratic(x, a, b, c):\n",
    "    function = a*x*x + b*x + c\n",
    "    return function"
   ]
  },
  {
   "cell_type": "code",
   "execution_count": 9,
   "metadata": {},
   "outputs": [],
   "source": [
    "# I am making a function to do fitting for three different models,\n",
    "# Because I would need to do this again and again\n",
    "def compute_bic(temp, resi):\n",
    "    # Constant fitting\n",
    "    popt_c, pcov_c = cft(constant, temp, resi)\n",
    "    rss_c = 0\n",
    "    for i in range(len(temp)):\n",
    "        r222 = (resi[i] - constant(temp[i], *popt_c))**2\n",
    "        rss_c = rss_c + r222\n",
    "        \n",
    "    bic_c = len(resi)*np.log((rss_c)/(len(resi))) + np.log(len(resi))\n",
    "    \n",
    "    # Linear model\n",
    "    popt_l, pcov_l = cft(line, temp, resi)\n",
    "    rss_l = 0\n",
    "    for i in range(len(temp)):\n",
    "        r222 = (resi[i] - line(temp[i], *popt_l))**2\n",
    "        rss_l = rss_l + r222\n",
    "    \n",
    "    bic_l = len(resi)*np.log((rss_l)/(len(resi))) + 2*np.log(len(resi))\n",
    "\n",
    "    # Quadratic model\n",
    "    popt_q, pcov_q = cft(quadratic, temp, resi)\n",
    "    rss_q = 0\n",
    "    for i in range(len(temp)):\n",
    "        r222 = (resi[i] - quadratic(temp[i], *popt_q))**2\n",
    "        rss_q = rss_q + r222\n",
    "    \n",
    "    bic_q = len(resi)*np.log((rss_q)/(len(resi))) + 3*np.log(len(resi))\n",
    "    return bic_c, bic_l, bic_q"
   ]
  },
  {
   "cell_type": "code",
   "execution_count": 10,
   "metadata": {},
   "outputs": [
    {
     "name": "stdout",
     "output_type": "stream",
     "text": [
      "BIC for constant model is  -256.1043134148143\n",
      "BIC for linear model is  -258.55630294588485\n",
      "BIC for quadratic model is  -254.41947473430042\n"
     ]
    }
   ],
   "source": [
    "bb_c, bb_l, bb_q = compute_bic(teff, diff_u2_c_a)\n",
    "\n",
    "print('BIC for constant model is ', bb_c)\n",
    "print('BIC for linear model is ', bb_l)\n",
    "print('BIC for quadratic model is ', bb_q)"
   ]
  },
  {
   "cell_type": "markdown",
   "metadata": {},
   "source": [
    "It seems that the best fitted model is the linear model.\n",
    "\n",
    "Let's try to remove the left-most data point (i.e., the point with teff just above 3000K) from the new dataset."
   ]
  },
  {
   "cell_type": "code",
   "execution_count": 11,
   "metadata": {},
   "outputs": [
    {
     "data": {
      "image/png": "[encoded data removed]",
      "text/plain": [
       "<Figure size 768x432 with 1 Axes>"
      ]
     },
     "metadata": {
      "needs_background": "light"
     },
     "output_type": "display_data"
    }
   ],
   "source": [
    "teff1 = np.array([])\n",
    "diff1 = np.array([])\n",
    "diffe1 = np.array([])\n",
    "\n",
    "for i in range(len(teff)):\n",
    "    if teff[i] > 3500:\n",
    "        teff1 = np.hstack((teff1, teff[i]))\n",
    "        diff1 = np.hstack((diff1, diff_u2_c_a[i]))\n",
    "        diffe1 = np.hstack((diffe1, diff_u2_c_ae[i]))\n",
    "        \n",
    "plt.figure(figsize=(16/1.5, 9/1.5))\n",
    "plt.errorbar(teff1, diff1, yerr = diffe1, fmt='.', elinewidth=1, alpha=0.35, color='cornflowerblue')\n",
    "plt.plot(teff1, np.zeros(len(teff1)), 'k--')\n",
    "plt.xlabel('Effective Temperature')\n",
    "plt.ylabel('Residuals')\n",
    "plt.grid()\n",
    "plt.show()"
   ]
  },
  {
   "cell_type": "markdown",
   "metadata": {},
   "source": [
    "Great! The leftmost point is been removed. We can now fit models to new data"
   ]
  },
  {
   "cell_type": "code",
   "execution_count": 12,
   "metadata": {},
   "outputs": [
    {
     "name": "stdout",
     "output_type": "stream",
     "text": [
      "BIC for constant model is  -251.87905189616566\n",
      "BIC for linear model is  -254.00431545756467\n",
      "BIC for quadratic model is  -250.08162406019486\n"
     ]
    }
   ],
   "source": [
    "bb_c1, bb_l1, bb_q1 = compute_bic(teff1, diff1)\n",
    "\n",
    "print('BIC for constant model is ', bb_c1)\n",
    "print('BIC for linear model is ', bb_l1)\n",
    "print('BIC for quadratic model is ', bb_q1)"
   ]
  },
  {
   "cell_type": "code",
   "execution_count": 13,
   "metadata": {},
   "outputs": [
    {
     "name": "stdout",
     "output_type": "stream",
     "text": [
      "2.1252635613990094\n"
     ]
    }
   ],
   "source": [
    "# Difference between BIC of linear and constant model is\n",
    "print(np.abs(bb_c1-bb_l1))"
   ]
  },
  {
   "cell_type": "markdown",
   "metadata": {},
   "source": [
    "It is greater than two, meaning the linear model is still favoured.\n",
    "\n",
    "Let's see what happens if we remove cooler star sample from out dataset, i.e., what if we remove all of those targets with effective temperature less than 4500 K."
   ]
  },
  {
   "cell_type": "code",
   "execution_count": 14,
   "metadata": {},
   "outputs": [
    {
     "data": {
      "image/png": "[encoded data removed]",
      "text/plain": [
       "<Figure size 768x432 with 1 Axes>"
      ]
     },
     "metadata": {
      "needs_background": "light"
     },
     "output_type": "display_data"
    }
   ],
   "source": [
    "teff2 = np.array([])\n",
    "diff2 = np.array([])\n",
    "diffe2 = np.array([])\n",
    "\n",
    "for i in range(len(teff)):\n",
    "    if teff[i] > 4500:\n",
    "        teff2 = np.hstack((teff2, teff[i]))\n",
    "        diff2 = np.hstack((diff2, diff_u2_c_a[i]))\n",
    "        diffe2 = np.hstack((diffe2, diff_u2_c_ae[i]))\n",
    "        \n",
    "plt.figure(figsize=(16/1.5, 9/1.5))\n",
    "plt.errorbar(teff2, diff2, yerr = diffe2, fmt='.', elinewidth=1, alpha=0.35, color='cornflowerblue')\n",
    "plt.plot(teff2, np.zeros(len(teff2)), 'k--')\n",
    "plt.xlabel('Effective Temperature')\n",
    "plt.ylabel('Residuals')\n",
    "plt.grid()\n",
    "plt.show()"
   ]
  },
  {
   "cell_type": "code",
   "execution_count": 15,
   "metadata": {},
   "outputs": [
    {
     "name": "stdout",
     "output_type": "stream",
     "text": [
      "BIC for constant model is  -247.80403683717935\n",
      "BIC for linear model is  -249.11233184531372\n",
      "BIC for quadratic model is  -247.31575774580958\n"
     ]
    }
   ],
   "source": [
    "bb_c2, bb_l2, bb_q2 = compute_bic(teff2, diff2)\n",
    "\n",
    "print('BIC for constant model is ', bb_c2)\n",
    "print('BIC for linear model is ', bb_l2)\n",
    "print('BIC for quadratic model is ', bb_q2)"
   ]
  },
  {
   "cell_type": "markdown",
   "metadata": {},
   "source": [
    "I believe now the constant model should be favoured. Let's check."
   ]
  },
  {
   "cell_type": "code",
   "execution_count": 16,
   "metadata": {},
   "outputs": [
    {
     "name": "stdout",
     "output_type": "stream",
     "text": [
      "1.3082950081343654\n"
     ]
    }
   ],
   "source": [
    "print(np.abs(bb_c2-bb_l2))"
   ]
  },
  {
   "cell_type": "markdown",
   "metadata": {},
   "source": [
    "Indeed, the constant model is favoured if we remove cooler stars (< 4500 K) from our sample. Here's the plot of residuals with best fitted model."
   ]
  },
  {
   "cell_type": "code",
   "execution_count": 17,
   "metadata": {},
   "outputs": [
    {
     "name": "stdout",
     "output_type": "stream",
     "text": [
      "Constant value is 0.03991894976832444+/-0.00030965389283113694\n"
     ]
    },
    {
     "data": {
      "image/png": "[encoded data removed]",
      "text/plain": [
       "<Figure size 768x432 with 1 Axes>"
      ]
     },
     "metadata": {
      "needs_background": "light"
     },
     "output_type": "display_data"
    }
   ],
   "source": [
    "popt, pcov = cft(constant, teff2, diff2)\n",
    "print('Constant value is ' + str(popt[0]) + '+/-' + str(pcov[0][0]))\n",
    "\n",
    "t22 = np.linspace(np.min(teff2), np.max(teff2), 1000)\n",
    "\n",
    "plt.figure(figsize=(16/1.5, 9/1.5))\n",
    "plt.errorbar(teff2, diff2, yerr = diffe2, fmt='.', elinewidth=1, alpha=0.35, color='cornflowerblue')\n",
    "plt.plot(t22, constant(t22, *popt), color = 'cornflowerblue', ls = '-.', zorder=3, alpha=0.85)\n",
    "plt.plot(teff2, np.zeros(len(teff2)), 'k--')\n",
    "plt.xlabel('Effective Temperature')\n",
    "plt.ylabel('Residuals')\n",
    "plt.grid()\n",
    "plt.show()"
   ]
  },
  {
   "cell_type": "code",
   "execution_count": null,
   "metadata": {},
   "outputs": [],
   "source": []
  }
 ],
 "metadata": {
  "kernelspec": {
   "display_name": "Python 3",
   "language": "python",
   "name": "python3"
  },
  "language_info": {
   "codemirror_mode": {
    "name": "ipython",
    "version": 3
   },
   "file_extension": ".py",
   "mimetype": "text/x-python",
   "name": "python",
   "nbconvert_exporter": "python",
   "pygments_lexer": "ipython3",
   "version": "3.7.4"
  }
 },
 "nbformat": 4,
 "nbformat_minor": 4
}
